{
 "metadata": {
  "language_info": {
   "codemirror_mode": {
    "name": "ipython",
    "version": 3
   },
   "file_extension": ".py",
   "mimetype": "text/x-python",
   "name": "python",
   "nbconvert_exporter": "python",
   "pygments_lexer": "ipython3",
   "version": "3.9.1-final"
  },
  "orig_nbformat": 2,
  "kernelspec": {
   "name": "python3",
   "display_name": "Python 3.9.1 64-bit",
   "metadata": {
    "interpreter": {
     "hash": "3ed0678d6a9afb749e4c0df9b74ca1e6999f26e6ef9c29206bb39e0a66a371b4"
    }
   }
  }
 },
 "nbformat": 4,
 "nbformat_minor": 2,
 "cells": [
  {
   "cell_type": "code",
   "execution_count": 31,
   "metadata": {},
   "outputs": [],
   "source": [
    "import tweepy\n",
    "import webbrowser\n",
    "import time\n",
    "import sys, itertools\n",
    "from itertools import combinations \n",
    "import numpy as np\n",
    "import matplotlib as plt"
   ]
  },
  {
   "cell_type": "code",
   "execution_count": 32,
   "metadata": {},
   "outputs": [],
   "source": [
    "#various access keys\n",
    "consumer_key = \"grAIOzlo15kQ4uWbe51E5tKTy\"\n",
    "consumer_secret = \"myjJxGqw7rwjNL2iX5lVEdrXSJGWLIdDuEuHD0QDt0jnISeIDO\"\n",
    "access_token = \"1277918198688559104-3tVMADcfhKSwLiizuYlsZncyLVcIWW\" \n",
    "access_token_secret = \"N7M2cMeRiWjoB4cr0IHfpZ8Ic4A5fYKh7y0BrQjNvbr4M\" \n",
    "\n",
    "#consumer authentication\n",
    "auth = tweepy.OAuthHandler(consumer_key, consumer_secret)\n",
    "\n",
    "#access code authentication\n",
    "auth.set_access_token(access_token, access_token_secret)\n",
    "\n",
    "#calling the api  \n",
    "api = tweepy.API(auth)"
   ]
  },
  {
   "cell_type": "code",
   "execution_count": 33,
   "metadata": {},
   "outputs": [],
   "source": [
    "# screen name of the user \n",
    "screen_name1 = \"@novaramedia\"\n",
    "screen_name2 = \"@guardian\"\n",
    "screen_name3 = \"@Independent\"\n",
    "screen_name4 = \"@Telegraph\"\n",
    "screen_name5 = \"@Daily_Express\"\n",
    "screen_name6 = \"@MailOnline\"\n",
    "screen_name7 = \"@GuidoFawkes\"\n",
    "\n",
    "# getting the followers list \n",
    "followers1 = api.followers_ids(screen_name1)\n",
    "followers2 = api.followers_ids(screen_name2)\n",
    "followers3 = api.followers_ids(screen_name3)\n",
    "followers4 = api.followers_ids(screen_name4)\n",
    "followers5 = api.followers_ids(screen_name5)\n",
    "followers6 = api.followers_ids(screen_name6)\n",
    "followers7 = api.followers_ids(screen_name7)"
   ]
  },
  {
   "cell_type": "code",
   "execution_count": 34,
   "metadata": {},
   "outputs": [
    {
     "output_type": "stream",
     "name": "stdout",
     "text": [
      "@novaramedia has 5000 followers.\n@guardian has 5000 followers.\n@Independent has 5000 followers.\n@Telegraph has 5000 followers.\n@Daily_Express has 5000 followers.\n@MailOnline has 5000 followers.\n@GuidoFawkes has 5000 followers.\n"
     ]
    }
   ],
   "source": [
    "#Sample size\n",
    "print(screen_name1 + \" has \" + str(len(followers1)) + \" followers.\") \n",
    "print(screen_name2 + \" has \" + str(len(followers2)) + \" followers.\")\n",
    "print(screen_name3 + \" has \" + str(len(followers3)) + \" followers.\")\n",
    "print(screen_name4 + \" has \" + str(len(followers4)) + \" followers.\")\n",
    "print(screen_name5 + \" has \" + str(len(followers5)) + \" followers.\")\n",
    "print(screen_name6 + \" has \" + str(len(followers6)) + \" followers.\")\n",
    "print(screen_name7 + \" has \" + str(len(followers7)) + \" followers.\")"
   ]
  },
  {
   "cell_type": "code",
   "execution_count": 35,
   "metadata": {},
   "outputs": [],
   "source": [
    "def common_followers(followers1,followers2):\n",
    "    result = []\n",
    "    for i in followers1:\n",
    "        if i in followers2:\n",
    "            result.append(i)\n",
    "    return result   "
   ]
  },
  {
   "cell_type": "code",
   "execution_count": 36,
   "metadata": {
    "tags": []
   },
   "outputs": [
    {
     "output_type": "stream",
     "name": "stdout",
     "text": [
      "3\n",
      "864\n",
      "1365\n",
      "465\n",
      "845\n",
      "26\n"
     ]
    }
   ],
   "source": [
    "# Get all combinations  \n",
    "# and length 2\n",
    "followers = [followers1,followers2,followers3,followers4,followers5,followers6,followers7]\n",
    "\n",
    "  \n",
    "# Print the obtained combinations  "
   ]
  },
  {
   "cell_type": "code",
   "execution_count": 70,
   "metadata": {},
   "outputs": [
    {
     "output_type": "stream",
     "name": "stdout",
     "text": [
      "3\n",
      "13\n",
      "17\n",
      "13\n",
      "5\n",
      "28\n",
      "864\n",
      "436\n",
      "63\n",
      "168\n",
      "6\n",
      "1365\n",
      "277\n",
      "599\n",
      "7\n",
      "465\n",
      "1084\n",
      "27\n",
      "845\n",
      "42\n",
      "26\n"
     ]
    }
   ],
   "source": [
    "combval = list(combinations([0, 1, 2, 3, 4, 5, 6], 2))\n",
    "for i in range(0,len(combval)):\n",
    "    for j in range(0,len(combval[i])-1):\n",
    "        comp1 = combval[i][j]\n",
    "        comp2 = combval[i][j+1]\n",
    "    commonfollowers = common_followers(followers[comp1],followers[comp2])\n",
    "    print(len(commonfollowers))"
   ]
  },
  {
   "cell_type": "code",
   "execution_count": null,
   "metadata": {},
   "outputs": [],
   "source": []
  }
 ]
}